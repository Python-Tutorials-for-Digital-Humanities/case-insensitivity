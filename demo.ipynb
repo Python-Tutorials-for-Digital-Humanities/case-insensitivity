{
 "cells": [
  {
   "cell_type": "code",
   "execution_count": 1,
   "id": "8a103ac1-d25c-472e-97be-9f677fd94d8a",
   "metadata": {},
   "outputs": [],
   "source": [
    "english = \"It is hot.\""
   ]
  },
  {
   "cell_type": "code",
   "execution_count": 2,
   "id": "e097faf0-c58a-4086-9b48-f15de772a43c",
   "metadata": {},
   "outputs": [
    {
     "data": {
      "text/plain": [
       "'it is hot.'"
      ]
     },
     "execution_count": 2,
     "metadata": {},
     "output_type": "execute_result"
    }
   ],
   "source": [
    "english.lower()"
   ]
  },
  {
   "cell_type": "code",
   "execution_count": 3,
   "id": "ac5253dd-df55-406a-9490-7c641c48bfcc",
   "metadata": {},
   "outputs": [],
   "source": [
    "german = \"Es ist heiß.\""
   ]
  },
  {
   "cell_type": "code",
   "execution_count": 4,
   "id": "fdba10e6-a855-4b1d-8d36-387c8523cd25",
   "metadata": {},
   "outputs": [
    {
     "data": {
      "text/plain": [
       "'es ist heiß.'"
      ]
     },
     "execution_count": 4,
     "metadata": {},
     "output_type": "execute_result"
    }
   ],
   "source": [
    "german.lower()"
   ]
  },
  {
   "cell_type": "code",
   "execution_count": 5,
   "id": "af39863a-dc65-440c-b7ba-5a3e43fc572e",
   "metadata": {},
   "outputs": [
    {
     "data": {
      "text/plain": [
       "'IT IS HOT.'"
      ]
     },
     "execution_count": 5,
     "metadata": {},
     "output_type": "execute_result"
    }
   ],
   "source": [
    "english.upper()"
   ]
  },
  {
   "cell_type": "code",
   "execution_count": 7,
   "id": "b9084d65-5d2c-4f34-a958-7c51dc0d4896",
   "metadata": {},
   "outputs": [
    {
     "data": {
      "text/plain": [
       "'es ist heiss.'"
      ]
     },
     "execution_count": 7,
     "metadata": {},
     "output_type": "execute_result"
    }
   ],
   "source": [
    "german.upper().lower()"
   ]
  },
  {
   "cell_type": "code",
   "execution_count": 9,
   "id": "437c2324-f280-4c3c-aa5c-d003a4f4ec78",
   "metadata": {},
   "outputs": [
    {
     "data": {
      "text/plain": [
       "False"
      ]
     },
     "execution_count": 9,
     "metadata": {},
     "output_type": "execute_result"
    }
   ],
   "source": [
    "german.lower() == german.upper().lower()"
   ]
  },
  {
   "cell_type": "code",
   "execution_count": 11,
   "id": "af1e9004-8072-4987-ba24-fe88ac28cf2d",
   "metadata": {},
   "outputs": [],
   "source": [
    "german_upper = \"ES IST HEISS.\""
   ]
  },
  {
   "cell_type": "code",
   "execution_count": 12,
   "id": "af8391c3-31f6-4471-9f56-d97e324d7675",
   "metadata": {},
   "outputs": [
    {
     "data": {
      "text/plain": [
       "False"
      ]
     },
     "execution_count": 12,
     "metadata": {},
     "output_type": "execute_result"
    }
   ],
   "source": [
    "german.lower() == german_upper.lower()"
   ]
  },
  {
   "cell_type": "code",
   "execution_count": 13,
   "id": "990ff780-bc0d-4cb2-ab24-cd80ffe05050",
   "metadata": {},
   "outputs": [
    {
     "data": {
      "text/plain": [
       "True"
      ]
     },
     "execution_count": 13,
     "metadata": {},
     "output_type": "execute_result"
    }
   ],
   "source": [
    "german.casefold() == german_upper.casefold()"
   ]
  },
  {
   "cell_type": "code",
   "execution_count": 14,
   "id": "13f10ded-2788-4657-b326-66fe935c9f81",
   "metadata": {},
   "outputs": [
    {
     "data": {
      "text/plain": [
       "'es ist heiss.'"
      ]
     },
     "execution_count": 14,
     "metadata": {},
     "output_type": "execute_result"
    }
   ],
   "source": [
    "german.casefold()"
   ]
  },
  {
   "cell_type": "code",
   "execution_count": 15,
   "id": "4d7de1e1-4339-4bca-a504-71ece240f801",
   "metadata": {},
   "outputs": [
    {
     "data": {
      "text/plain": [
       "'es ist heiss.'"
      ]
     },
     "execution_count": 15,
     "metadata": {},
     "output_type": "execute_result"
    }
   ],
   "source": [
    "german_upper.casefold()"
   ]
  },
  {
   "cell_type": "code",
   "execution_count": null,
   "id": "80912d01-9dc5-4841-bb3d-6b7996317f9c",
   "metadata": {},
   "outputs": [],
   "source": []
  }
 ],
 "metadata": {
  "kernelspec": {
   "display_name": "Python 3 (ipykernel)",
   "language": "python",
   "name": "python3"
  },
  "language_info": {
   "codemirror_mode": {
    "name": "ipython",
    "version": 3
   },
   "file_extension": ".py",
   "mimetype": "text/x-python",
   "name": "python",
   "nbconvert_exporter": "python",
   "pygments_lexer": "ipython3",
   "version": "3.9.16"
  }
 },
 "nbformat": 4,
 "nbformat_minor": 5
}
